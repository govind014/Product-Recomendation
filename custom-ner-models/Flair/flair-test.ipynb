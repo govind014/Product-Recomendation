{
 "cells": [
  {
   "cell_type": "code",
   "execution_count": 2,
   "source": [
    "from flair.data import Sentence\r\n",
    "from flair.models import SequenceTagger"
   ],
   "outputs": [],
   "metadata": {}
  },
  {
   "cell_type": "code",
   "execution_count": 3,
   "source": [
    "# make a sentence\r\n",
    "sentence = Sentence('I love Berlin .')\r\n",
    "\r\n",
    "# load the NER tagger\r\n",
    "tagger = SequenceTagger.load('ner')\r\n",
    "\r\n",
    "# run NER over sentence\r\n",
    "tagger.predict(sentence)\r\n",
    "\r\n",
    "print(sentence)\r\n",
    "print('The following NER tags are found:')\r\n",
    "\r\n",
    "# iterate over entities and print\r\n",
    "for entity in sentence.get_spans('ner'):\r\n",
    "    print(entity)"
   ],
   "outputs": [
    {
     "name": "stdout",
     "output_type": "stream",
     "text": [
      "2021-09-17 23:48:27,657 --------------------------------------------------------------------------------\n",
      "2021-09-17 23:48:27,657 The model key 'ner' now maps to 'https://huggingface.co/flair/ner-english' on the HuggingFace ModelHub\n",
      "2021-09-17 23:48:27,657  - The most current version of the model is automatically downloaded from there.\n",
      "2021-09-17 23:48:27,657  - (you can alternatively manually download the original model at https://nlp.informatik.hu-berlin.de/resources/models/ner/en-ner-conll03-v0.4.pt)\n",
      "2021-09-17 23:48:27,672 --------------------------------------------------------------------------------\n",
      "2021-09-17 23:48:29,198 loading file C:\\Users\\govin\\.flair\\models\\ner-english\\4f4cdab26f24cb98b732b389e6cebc646c36f54cfd6e0b7d3b90b25656e4262f.8baa8ae8795f4df80b28e7f7b61d788ecbb057d1dc85aacb316f1bd02837a4a4\n",
      "Sentence: \"I love Berlin .\"   [− Tokens: 4  − Token-Labels: \"I love Berlin <S-LOC> .\"]\n",
      "The following NER tags are found:\n",
      "Span [3]: \"Berlin\"   [− Labels: LOC (0.999)]\n"
     ]
    }
   ],
   "metadata": {}
  }
 ],
 "metadata": {
  "orig_nbformat": 4,
  "language_info": {
   "name": "python",
   "version": "3.9.6",
   "mimetype": "text/x-python",
   "codemirror_mode": {
    "name": "ipython",
    "version": 3
   },
   "pygments_lexer": "ipython3",
   "nbconvert_exporter": "python",
   "file_extension": ".py"
  },
  "kernelspec": {
   "name": "python3",
   "display_name": "Python 3.9.6 64-bit ('TensorFlow': conda)"
  },
  "interpreter": {
   "hash": "0eb249e72b2dd35be69bfad53ccb4173ae17aaae87f239d681dd56aed27b27d7"
  }
 },
 "nbformat": 4,
 "nbformat_minor": 2
}