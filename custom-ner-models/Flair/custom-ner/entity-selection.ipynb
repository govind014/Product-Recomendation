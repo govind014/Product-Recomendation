{
 "cells": [
  {
   "cell_type": "code",
   "execution_count": 1,
   "metadata": {},
   "outputs": [
    {
     "name": "stderr",
     "output_type": "stream",
     "text": [
      "C:\\Users\\govin\\miniconda3\\envs\\nlp\\lib\\site-packages\\gensim\\utils.py:1197: UserWarning: detected Windows; aliasing chunkize to chunkize_serial\n",
      "  warnings.warn(\"detected Windows; aliasing chunkize to chunkize_serial\")\n"
     ]
    }
   ],
   "source": [
    "from flair.data import Sentence\n",
    "from flair.models import SequenceTagger"
   ]
  },
  {
   "cell_type": "code",
   "execution_count": 2,
   "metadata": {},
   "outputs": [
    {
     "name": "stdout",
     "output_type": "stream",
     "text": [
      "2021-11-15 11:54:17,620 loading file H:\\Product-Recomendation\\custom-ner-models\\Flair\\custom-ner\\best-model-2.pt\n"
     ]
    }
   ],
   "source": [
    "model = SequenceTagger.load('H:\\\\Product-Recomendation\\\\custom-ner-models\\\\Flair\\\\custom-ner\\\\best-model-2.pt')"
   ]
  },
  {
   "cell_type": "code",
   "execution_count": 3,
   "metadata": {},
   "outputs": [
    {
     "data": {
      "text/plain": [
       "<bound method Classifier.evaluate of SequenceTagger(\n",
       "  (embeddings): StackedEmbeddings(\n",
       "    (list_embedding_0): WordEmbeddings('glove')\n",
       "    (list_embedding_1): FlairEmbeddings(\n",
       "      (lm): LanguageModel(\n",
       "        (drop): Dropout(p=0.05, inplace=False)\n",
       "        (encoder): Embedding(300, 100)\n",
       "        (rnn): LSTM(100, 2048)\n",
       "        (decoder): Linear(in_features=2048, out_features=300, bias=True)\n",
       "      )\n",
       "    )\n",
       "    (list_embedding_2): FlairEmbeddings(\n",
       "      (lm): LanguageModel(\n",
       "        (drop): Dropout(p=0.05, inplace=False)\n",
       "        (encoder): Embedding(300, 100)\n",
       "        (rnn): LSTM(100, 2048)\n",
       "        (decoder): Linear(in_features=2048, out_features=300, bias=True)\n",
       "      )\n",
       "    )\n",
       "  )\n",
       "  (word_dropout): WordDropout(p=0.05)\n",
       "  (locked_dropout): LockedDropout(p=0.5)\n",
       "  (embedding2nn): Linear(in_features=4196, out_features=4196, bias=True)\n",
       "  (rnn): LSTM(4196, 256, batch_first=True, bidirectional=True)\n",
       "  (linear): Linear(in_features=512, out_features=12, bias=True)\n",
       ")>"
      ]
     },
     "execution_count": 3,
     "metadata": {},
     "output_type": "execute_result"
    }
   ],
   "source": [
    "model.evaluate"
   ]
  },
  {
   "cell_type": "code",
   "execution_count": 4,
   "metadata": {},
   "outputs": [],
   "source": [
    "tags = [\"<B-PRICING>\",\"<I-PRICING>\", \"<O-PRICING>\",\n",
    "        \"<B-PRODUCTNAME>\", \"<I-PRODUCTNAME>\", \"<O-PRODUCTNAME>\",\n",
    "        \"<B-CATEGORY>\", \"<I-CATEGORY>\", \"<O-CATEGORY>\",\n",
    "        \"<B-CITY>\", \"<I-CITY>\", \"<O-CITY>\",\n",
    "        \"<B-NUMBEROFPRODUCTS>\", \"<I-NUMBEROFPRODUCTS>\", \"<O-NUMBEROFPRODUCTS>\",\n",
    "        \"<B-TIME>\", \"<I-TIME>\", \"<O-TIME>\"]"
   ]
  },
  {
   "cell_type": "code",
   "execution_count": 5,
   "metadata": {},
   "outputs": [],
   "source": [
    "sentence = Sentence('I like to have 3 number of samsung m51 mobile at Pune today morning 6 pm')"
   ]
  },
  {
   "cell_type": "code",
   "execution_count": 6,
   "metadata": {},
   "outputs": [
    {
     "name": "stdout",
     "output_type": "stream",
     "text": [
      "I like to have 3 <B-NUMBEROFPRODUCTS> number of samsung <B-PRODUCTNAME> m51 <I-PRODUCTNAME> mobile <B-CATEGORY> at Pune <B-CITY> today morning <B-TIME> 6 <B-TIME> pm <I-TIME>\n"
     ]
    }
   ],
   "source": [
    "model.predict(sentence)\n",
    "print(sentence.to_tagged_string())\n",
    "out = sentence.to_tagged_string()"
   ]
  },
  {
   "cell_type": "code",
   "execution_count": 95,
   "metadata": {},
   "outputs": [
    {
     "name": "stdout",
     "output_type": "stream",
     "text": [
      "samsung <B-PRODUCTNAME>\n",
      "m51 <I-PRODUCTNAME>\n",
      "mobile <B-CATEGORY>\n",
      "Pune <B-CITY>\n",
      "morning <B-TIME>\n",
      "6 <B-TIME>\n",
      "pm <I-TIME>\n"
     ]
    }
   ],
   "source": [
    "slot_key = []\n",
    "slot_value = []\n",
    "outList = out.split()\n",
    "#print(tags)\n",
    "for i in range(len(outList)):\n",
    "    for tag in tags:\n",
    "        #print(tag, outList)\n",
    "        if outList[i] == tag:\n",
    "            print(outList[i-1], tag)\n",
    "            slot_key.append(outList[i][3:-1].lower())\n",
    "            slot_value.append(outList[i-1])"
   ]
  },
  {
   "cell_type": "code",
   "execution_count": 96,
   "metadata": {},
   "outputs": [
    {
     "data": {
      "text/plain": [
       "(['samsung', 'm51', 'mobile', 'Pune', 'morning', '6', 'pm'],\n",
       " ['productname', 'productname', 'category', 'city', 'time', 'time', 'time'])"
      ]
     },
     "execution_count": 96,
     "metadata": {},
     "output_type": "execute_result"
    }
   ],
   "source": [
    "slot_value, slot_key"
   ]
  },
  {
   "cell_type": "code",
   "execution_count": 97,
   "metadata": {},
   "outputs": [],
   "source": [
    "slot_dict = {}\n",
    "for i in range(len(slot_key)):\n",
    "    slot_dict.setdefault(slot_key[i], [])\n",
    "    if slot_key[i] in slot_dict.keys():\n",
    "        slot_dict[slot_key[i]].append(slot_value[i])"
   ]
  },
  {
   "cell_type": "code",
   "execution_count": 98,
   "metadata": {},
   "outputs": [
    {
     "data": {
      "text/plain": [
       "{'productname': ['samsung', 'm51'],\n",
       " 'category': ['mobile'],\n",
       " 'city': ['Pune'],\n",
       " 'time': ['morning', '6', 'pm']}"
      ]
     },
     "execution_count": 98,
     "metadata": {},
     "output_type": "execute_result"
    }
   ],
   "source": [
    "slot_dict"
   ]
  }
 ],
 "metadata": {
  "interpreter": {
   "hash": "32039cba56244facc738a0a152276d60c16c88ab74a51a3d699a90b66bb2142d"
  },
  "kernelspec": {
   "display_name": "Python 3.9.7 64-bit ('nlp': conda)",
   "language": "python",
   "name": "python3"
  },
  "language_info": {
   "codemirror_mode": {
    "name": "ipython",
    "version": 3
   },
   "file_extension": ".py",
   "mimetype": "text/x-python",
   "name": "python",
   "nbconvert_exporter": "python",
   "pygments_lexer": "ipython3",
   "version": "3.9.7"
  },
  "orig_nbformat": 4
 },
 "nbformat": 4,
 "nbformat_minor": 2
}
