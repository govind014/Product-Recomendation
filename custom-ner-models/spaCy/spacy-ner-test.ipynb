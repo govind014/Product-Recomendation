{
 "cells": [
  {
   "cell_type": "code",
   "execution_count": 5,
   "source": [
    "import spacy\r\n",
    "nlp = spacy.load(\"en_core_web_sm\")"
   ],
   "outputs": [],
   "metadata": {}
  },
  {
   "cell_type": "code",
   "execution_count": 2,
   "source": [
    "doc = nlp(\"I want Apple Iphone\")\r\n",
    "for token in doc:\r\n",
    "    print('{} - {} - {}'.format(token.text, token.pos_, token.dep_))"
   ],
   "outputs": [
    {
     "output_type": "stream",
     "name": "stdout",
     "text": [
      "I - PRON - nsubj\n",
      "want - VERB - ROOT\n",
      "Apple - PROPN - compound\n",
      "Iphone - PROPN - dobj\n"
     ]
    }
   ],
   "metadata": {}
  },
  {
   "cell_type": "code",
   "execution_count": 3,
   "source": [
    "db = [    \"Which product you are looking for?\",\r\n",
    "    \"What do you want to buy?\",\r\n",
    "    \"which city youre in\",\r\n",
    "    \"i want mobile\",\r\n",
    "    \"I want ten items\",\r\n",
    "    \"Is low price available\",\r\n",
    "    \"morning\",\r\n",
    "    \"Apple Iphone\"]"
   ],
   "outputs": [],
   "metadata": {}
  },
  {
   "cell_type": "code",
   "execution_count": 4,
   "source": [
    "for item in db:\r\n",
    "  doc = nlp(item)\r\n",
    "  print(doc)\r\n",
    "  for token in doc.ents:\r\n",
    "    print('{}  --  {}  --  {}'.format( item, token,  token.label_))"
   ],
   "outputs": [
    {
     "output_type": "stream",
     "name": "stdout",
     "text": [
      "Which product you are looking for?\n",
      "What do you want to buy?\n",
      "which city youre in\n",
      "i want mobile\n",
      "I want ten items\n",
      "I want ten items  --  ten  --  CARDINAL\n",
      "Is low price available\n",
      "morning\n",
      "morning  --  morning  --  TIME\n",
      "Apple Iphone\n",
      "Apple Iphone  --  Apple Iphone  --  ORG\n"
     ]
    }
   ],
   "metadata": {}
  },
  {
   "cell_type": "code",
   "execution_count": null,
   "source": [],
   "outputs": [],
   "metadata": {}
  }
 ],
 "metadata": {
  "orig_nbformat": 4,
  "language_info": {
   "name": "python",
   "version": "3.9.6",
   "mimetype": "text/x-python",
   "codemirror_mode": {
    "name": "ipython",
    "version": 3
   },
   "pygments_lexer": "ipython3",
   "nbconvert_exporter": "python",
   "file_extension": ".py"
  },
  "kernelspec": {
   "name": "python3",
   "display_name": "Python 3.9.6 64-bit ('TensorFlow': conda)"
  },
  "interpreter": {
   "hash": "0eb249e72b2dd35be69bfad53ccb4173ae17aaae87f239d681dd56aed27b27d7"
  }
 },
 "nbformat": 4,
 "nbformat_minor": 2
}